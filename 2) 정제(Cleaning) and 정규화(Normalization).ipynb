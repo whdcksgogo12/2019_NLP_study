{
 "cells": [
  {
   "cell_type": "markdown",
   "metadata": {},
   "source": [
    "- 정제(cleaning): 갖고 있는 코퍼스로부터 노이즈 데이터를 제거한다.\n",
    "- 정규화(normalization): 표현 방법이 다른 단어들을 통합시켜서 같은 단어로 만들어준다."
   ]
  },
  {
   "cell_type": "markdown",
   "metadata": {},
   "source": [
    "- 정제 작업은 토큰화 작업에 방해가 되는 부분들을 배제시키고 토큰화 작업을 수행하기 위해서 전에 이루어지기도\n",
    "- 토큰화 작업 이후에도 여전히 남아있는 노이즈들을 제거하기 위해 지속적으로 이루어지기도 함"
   ]
  },
  {
   "cell_type": "markdown",
   "metadata": {},
   "source": [
    "# 1. 규칙에 기반한 표기가 다른 단어들의 통합"
   ]
  },
  {
   "cell_type": "markdown",
   "metadata": {},
   "source": [
    "- 어간 추출(stemming) / 표제어 추출(lemmatization)\n",
    "- 같은 의미를 갖고 있음에도 표기가 다른 단어들을 하나의 단어로 정규화\n",
    "- ex) USA와 US는 같은 의미 -정규화> US를 찾아도 USA도 함께 찾을 수 있을 것"
   ]
  },
  {
   "cell_type": "markdown",
   "metadata": {},
   "source": [
    "# 2. 대, 소문자 통합"
   ]
  },
  {
   "cell_type": "markdown",
   "metadata": {},
   "source": [
    "- 대, 소문자 통합 작업은 대부분 대문자를 소문자로 변환하는 소문자 변환 작업으로 이루어짐\n",
    "- 대문자는 문장의 맨 앞 등과 같은 특정 상황에서만 쓰이고, 대부분의 글은 소문자로 작성되기 때문\n",
    "- 모든 토큰은 소문자로 만드는게 나을 수도, 문장의 맨 앞에 나오는 단어의 대문자만 소문자로 바꾸는 게 나을 수도 -> 상황에 따라 다름"
   ]
  },
  {
   "cell_type": "markdown",
   "metadata": {},
   "source": [
    "- 주의할 점  \n",
    "  미국 US / 우리 us  \n",
    "  회사 이름(General Motoers)  \n",
    "  사람 이름(Bush)"
   ]
  },
  {
   "cell_type": "markdown",
   "metadata": {},
   "source": [
    "# 3. 불필요한 단어의 제거(Removing Unnecessary Words)"
   ]
  },
  {
   "cell_type": "markdown",
   "metadata": {},
   "source": [
    "- 노이즈 데이터란?  \n",
    "  자연어가 아니면서 아무 의미도 갖지 않는 글자들(특수 문자 등)  \n",
    "  분석하고자 하는 목적에 맞지 않는 불필요한 단어들"
   ]
  },
  {
   "cell_type": "markdown",
   "metadata": {},
   "source": [
    "- 종류  \n",
    "    불용어 제거(다른 챕터)  \n",
    "    등장 빈도가 적은 단어  \n",
    "    길이가 짧은 단어"
   ]
  },
  {
   "cell_type": "markdown",
   "metadata": {},
   "source": [
    "1. 등장 빈도가 적은 단어(Removing Rare words)  \n",
    "    - 텍스트 데이터에서 너무 적게 등장해서 자연어 처리에 도움이 되지 않음\n",
    "    - 스팸 메일을 분류할 때 100,000개의 메일 데이터에서 총 합 5번 밖에 등장하지 않은 단어는 분류에 거의 도움이 도지 않을 것 "
   ]
  },
  {
   "cell_type": "markdown",
   "metadata": {},
   "source": [
    "2. 길이가 짧은 단어(Removing words with very a short length)\n",
    "    - 영어권 언어에서 길이가 짧은 단어들은 대부분 의미가 없는 단어(불용어)에 해당\n",
    "    - 길이를 조건으로 텍스트를 삭제하면서 단어가 아닌 구두점들까지도 한꺼번에 제거"
   ]
  },
  {
   "cell_type": "markdown",
   "metadata": {},
   "source": [
    "- 주의할 점  \n",
    "    한국어는 길이가 짧은 단어라고 삭제하는 방법이 유효하지 않음"
   ]
  },
  {
   "cell_type": "code",
   "execution_count": 3,
   "metadata": {},
   "outputs": [
    {
     "name": "stdout",
     "output_type": "stream",
     "text": [
      " was wondering anyone out there could enlighten this car.\n"
     ]
    }
   ],
   "source": [
    "# 길이가 1~2인 단어들을 정규 표현식을 이용하여 삭제(by 정규 표현식)\n",
    "import re\n",
    "text = \"I was wondering if anyone out there could enlighten me on this car.\"\n",
    "shortword = re.compile(r'\\W*\\b\\w{1,2}\\b')\n",
    "print(shortword.sub('', text))"
   ]
  },
  {
   "cell_type": "markdown",
   "metadata": {},
   "source": [
    "# 4. 정규 표현식(Regular Expression)"
   ]
  },
  {
   "cell_type": "markdown",
   "metadata": {},
   "source": [
    "- 얻어낸 코퍼스에서 노이즈 데이터의 특징을 잡아낼 수 있다면, 정규 표현식을 통해서 이를 제거할 수 있음\n",
    "- ex) HTML 문서 내에 HTML 태그, 뉴스 기사 내에 기사 게재 시간"
   ]
  },
  {
   "cell_type": "code",
   "execution_count": null,
   "metadata": {},
   "outputs": [],
   "source": []
  },
  {
   "cell_type": "code",
   "execution_count": null,
   "metadata": {},
   "outputs": [],
   "source": []
  },
  {
   "cell_type": "code",
   "execution_count": null,
   "metadata": {},
   "outputs": [],
   "source": []
  },
  {
   "cell_type": "code",
   "execution_count": null,
   "metadata": {},
   "outputs": [],
   "source": []
  },
  {
   "cell_type": "markdown",
   "metadata": {},
   "source": [
    "끝 191001.ver"
   ]
  },
  {
   "cell_type": "code",
   "execution_count": null,
   "metadata": {},
   "outputs": [],
   "source": []
  }
 ],
 "metadata": {
  "kernelspec": {
   "display_name": "Python 3",
   "language": "python",
   "name": "python3"
  },
  "language_info": {
   "codemirror_mode": {
    "name": "ipython",
    "version": 3
   },
   "file_extension": ".py",
   "mimetype": "text/x-python",
   "name": "python",
   "nbconvert_exporter": "python",
   "pygments_lexer": "ipython3",
   "version": "3.7.1"
  }
 },
 "nbformat": 4,
 "nbformat_minor": 2
}
